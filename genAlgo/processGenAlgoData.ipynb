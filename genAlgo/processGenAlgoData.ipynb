{
 "cells": [
  {
   "cell_type": "markdown",
   "source": [
    "# Processing data after running the Genetic Algorithm\r\n",
    "First, we will look at what values the genetic algorithm gave us.   \r\n",
    "Then, we will backcalculate the fold changes for each set of model parameters"
   ],
   "metadata": {}
  },
  {
   "cell_type": "code",
   "execution_count": null,
   "source": [
    "import tellurium as te\r\n",
    "import pandas as pd\r\n",
    "import numpy as np\r\n",
    "import sys\r\n",
    "import matplotlib.pyplot as plt\r\n",
    "\r\n",
    "# pd.set_option(\"display.max_rows\", None, \"display.max_columns\", None)\r\n",
    "# pd.reset_option('^display.', silent=True)"
   ],
   "outputs": [],
   "metadata": {}
  },
  {
   "cell_type": "markdown",
   "source": [
    "# Viewing the data using pandas"
   ],
   "metadata": {}
  },
  {
   "cell_type": "code",
   "execution_count": null,
   "source": [
    "# open the results file\r\n",
    "f = open(\"paramData.list\", \"r\")\r\n",
    "lines = f.read()\r\n",
    "# parse the data into an array \r\n",
    "list_of_lines = lines.splitlines()\r\n",
    "f.close()\r\n",
    "# reshape into numpy\r\n",
    "arr = np.array(list_of_lines)\r\n",
    "arr = arr.astype('float64')\r\n",
    "arr = np.reshape(arr, (100, 5))\r\n",
    "\r\n",
    "g = open(\"scores.list\", \"r\")\r\n",
    "gines = g.read()\r\n",
    "gist_of_gines = gines.splitlines()\r\n",
    "g.close()\r\n",
    "garr = np.array(gist_of_gines)\r\n",
    "garr = garr.astype('float64')\r\n",
    "garr = np.reshape(garr, (100, 1))\r\n",
    "gf = pd.DataFrame(garr, columns = ['chiSq'])\r\n",
    "\r\n",
    "data = pd.concat((df, gf),axis=1)\r\n",
    "data"
   ],
   "outputs": [],
   "metadata": {}
  },
  {
   "cell_type": "code",
   "execution_count": null,
   "source": [
    "# to view data from least to greatest chi square values\r\n",
    "data.sort_values(by='chiSq')"
   ],
   "outputs": [],
   "metadata": {}
  },
  {
   "cell_type": "markdown",
   "source": [
    "# Backcalculating the predicted fold changes for each set of model parameters"
   ],
   "metadata": {}
  },
  {
   "cell_type": "code",
   "execution_count": 6,
   "source": [
    "import backCheck\r\n",
    "from core import evaluate\r\n",
    "from core import models"
   ],
   "outputs": [],
   "metadata": {}
  },
  {
   "cell_type": "code",
   "execution_count": null,
   "source": [
    "backCheck.getFoldChangeValues(paramData=\"data/paramData.list\")"
   ],
   "outputs": [],
   "metadata": {}
  },
  {
   "cell_type": "code",
   "execution_count": 7,
   "source": [
    "# the original, expected values to compare with the values in 'allData.list'\r\n",
    "evaluate.runExperiment(models.groundTruth_mod_e)"
   ],
   "outputs": [
    {
     "output_type": "execute_result",
     "data": {
      "text/plain": [
       "array([ 0.69887834,  0.69887834,  0.69887834,  0.69887834, -0.34168351,\n",
       "        0.0736096 ,  0.0736096 ,  0.0736096 , -0.07181795, -0.37015035,\n",
       "        0.01547189,  0.01547189, -0.01774854, -0.0914761 , -0.39242256,\n",
       "        0.0038236 , -0.00471971, -0.02432542, -0.10435341, -0.49949161,\n",
       "        0.69887834,  0.0736096 ,  0.01547189,  0.0038236 ,  0.00101678])"
      ]
     },
     "metadata": {},
     "execution_count": 7
    }
   ],
   "metadata": {}
  },
  {
   "cell_type": "code",
   "execution_count": null,
   "source": [],
   "outputs": [],
   "metadata": {}
  }
 ],
 "metadata": {
  "orig_nbformat": 4,
  "language_info": {
   "name": "python",
   "version": "3.8.6",
   "mimetype": "text/x-python",
   "codemirror_mode": {
    "name": "ipython",
    "version": 3
   },
   "pygments_lexer": "ipython3",
   "nbconvert_exporter": "python",
   "file_extension": ".py"
  },
  "kernelspec": {
   "name": "python3",
   "display_name": "Python 3.8.6 64-bit (system)"
  },
  "interpreter": {
   "hash": "807af757a5071a81de60f8a5dd7456980ab3170d1cb5848dc8554ea6db7a575c"
  }
 },
 "nbformat": 4,
 "nbformat_minor": 2
}