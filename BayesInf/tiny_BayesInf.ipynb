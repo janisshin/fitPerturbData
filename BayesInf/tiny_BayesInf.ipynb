{
 "cells": [
  {
   "cell_type": "code",
   "execution_count": null,
   "id": "a667a969",
   "metadata": {},
   "outputs": [],
   "source": [
    "#import Pkg\n",
    "#Pkg.add(\"CSV\")\n",
    "#Pkg.add(\"DataFrames\")"
   ]
  },
  {
   "cell_type": "code",
   "execution_count": 2,
   "id": "7a9ac8d0",
   "metadata": {},
   "outputs": [
    {
     "name": "stderr",
     "output_type": "stream",
     "text": [
      "┌ Warning: Replacing docs for `RoadRunner.getLastError :: Tuple{}` in module `RoadRunner`\n",
      "└ @ Base.Docs docs\\Docs.jl:240\n"
     ]
    }
   ],
   "source": [
    "using RoadRunner\n",
    "using CSV\n",
    "using DataFrames"
   ]
  },
  {
   "cell_type": "code",
   "execution_count": 3,
   "id": "66e39ad1",
   "metadata": {},
   "outputs": [
    {
     "data": {
      "text/plain": [
       "\"    PGM: -> M_2PG \\n    ENO: M_2PG -> PEP\\n    PK: ADP + PEP ->\\n\""
      ]
     },
     "metadata": {},
     "output_type": "display_data"
    }
   ],
   "source": [
    "tiny = (\"\"\"\n",
    "    PGM: -> M_2PG \n",
    "    ENO: M_2PG -> PEP\n",
    "    PK: ADP + PEP ->\n",
    "\"\"\")"
   ]
  },
  {
   "cell_type": "code",
   "execution_count": 5,
   "id": "2c72d12c",
   "metadata": {},
   "outputs": [
    {
     "data": {
      "text/html": [
       "<div class=\"data-frame\"><p>19 rows × 8 columns</p><table class=\"data-frame\"><thead><tr><th></th><th>PGM</th><th>ENO</th><th>PK</th><th>2PG</th><th>PEP</th><th>BPG</th><th>ADP</th><th>Flux</th></tr><tr><th></th><th title=\"Float64\">Float64</th><th title=\"Float64\">Float64</th><th title=\"Float64\">Float64</th><th title=\"Int64\">Int64</th><th title=\"Int64\">Int64</th><th title=\"Float64\">Float64</th><th title=\"Int64\">Int64</th><th title=\"Int64\">Int64</th></tr></thead><tbody><tr><th>1</th><td>31.0</td><td>5.6</td><td>46.0</td><td>170</td><td>50</td><td>13.2</td><td>107</td><td>157</td></tr><tr><th>2</th><td>25.0</td><td>12.0</td><td>30.0</td><td>60</td><td>103</td><td>13.2</td><td>61</td><td>87</td></tr><tr><th>3</th><td>25.0</td><td>12.0</td><td>30.0</td><td>57</td><td>91</td><td>13.2</td><td>83</td><td>114</td></tr><tr><th>4</th><td>25.0</td><td>12.0</td><td>30.0</td><td>55</td><td>83</td><td>13.2</td><td>107</td><td>128</td></tr><tr><th>5</th><td>25.0</td><td>12.0</td><td>30.0</td><td>54</td><td>76</td><td>13.2</td><td>130</td><td>136</td></tr><tr><th>6</th><td>25.0</td><td>12.0</td><td>30.0</td><td>40</td><td>60</td><td>8.5</td><td>107</td><td>111</td></tr><tr><th>7</th><td>25.0</td><td>12.0</td><td>30.0</td><td>46</td><td>70</td><td>10.8</td><td>107</td><td>118</td></tr><tr><th>8</th><td>25.0</td><td>12.0</td><td>30.0</td><td>55</td><td>81</td><td>13.2</td><td>107</td><td>122</td></tr><tr><th>9</th><td>25.0</td><td>12.0</td><td>30.0</td><td>59</td><td>89</td><td>15.6</td><td>107</td><td>130</td></tr><tr><th>10</th><td>25.0</td><td>12.0</td><td>30.0</td><td>63</td><td>95</td><td>18.0</td><td>107</td><td>133</td></tr><tr><th>11</th><td>36.8</td><td>6.5</td><td>34.0</td><td>161</td><td>81</td><td>13.2</td><td>107</td><td>108</td></tr><tr><th>12</th><td>45.0</td><td>6.5</td><td>34.0</td><td>178</td><td>82</td><td>13.2</td><td>107</td><td>108</td></tr><tr><th>13</th><td>53.2</td><td>6.5</td><td>34.0</td><td>204</td><td>81</td><td>13.2</td><td>107</td><td>108</td></tr><tr><th>14</th><td>45.0</td><td>5.3</td><td>34.0</td><td>206</td><td>75</td><td>13.2</td><td>107</td><td>106</td></tr><tr><th>15</th><td>45.0</td><td>6.5</td><td>34.0</td><td>195</td><td>87</td><td>13.2</td><td>107</td><td>108</td></tr><tr><th>16</th><td>45.0</td><td>7.7</td><td>34.0</td><td>180</td><td>92</td><td>13.2</td><td>107</td><td>112</td></tr><tr><th>17</th><td>45.0</td><td>6.5</td><td>30.9</td><td>192</td><td>91</td><td>13.2</td><td>107</td><td>96</td></tr><tr><th>18</th><td>45.0</td><td>6.5</td><td>34.0</td><td>192</td><td>84</td><td>13.2</td><td>107</td><td>106</td></tr><tr><th>19</th><td>45.0</td><td>6.5</td><td>37.1</td><td>196</td><td>79</td><td>13.2</td><td>107</td><td>116</td></tr></tbody></table></div>"
      ],
      "text/latex": [
       "\\begin{tabular}{r|cccccccc}\n",
       "\t& PGM & ENO & PK & 2PG & PEP & BPG & ADP & Flux\\\\\n",
       "\t\\hline\n",
       "\t& Float64 & Float64 & Float64 & Int64 & Int64 & Float64 & Int64 & Int64\\\\\n",
       "\t\\hline\n",
       "\t1 & 31.0 & 5.6 & 46.0 & 170 & 50 & 13.2 & 107 & 157 \\\\\n",
       "\t2 & 25.0 & 12.0 & 30.0 & 60 & 103 & 13.2 & 61 & 87 \\\\\n",
       "\t3 & 25.0 & 12.0 & 30.0 & 57 & 91 & 13.2 & 83 & 114 \\\\\n",
       "\t4 & 25.0 & 12.0 & 30.0 & 55 & 83 & 13.2 & 107 & 128 \\\\\n",
       "\t5 & 25.0 & 12.0 & 30.0 & 54 & 76 & 13.2 & 130 & 136 \\\\\n",
       "\t6 & 25.0 & 12.0 & 30.0 & 40 & 60 & 8.5 & 107 & 111 \\\\\n",
       "\t7 & 25.0 & 12.0 & 30.0 & 46 & 70 & 10.8 & 107 & 118 \\\\\n",
       "\t8 & 25.0 & 12.0 & 30.0 & 55 & 81 & 13.2 & 107 & 122 \\\\\n",
       "\t9 & 25.0 & 12.0 & 30.0 & 59 & 89 & 15.6 & 107 & 130 \\\\\n",
       "\t10 & 25.0 & 12.0 & 30.0 & 63 & 95 & 18.0 & 107 & 133 \\\\\n",
       "\t11 & 36.8 & 6.5 & 34.0 & 161 & 81 & 13.2 & 107 & 108 \\\\\n",
       "\t12 & 45.0 & 6.5 & 34.0 & 178 & 82 & 13.2 & 107 & 108 \\\\\n",
       "\t13 & 53.2 & 6.5 & 34.0 & 204 & 81 & 13.2 & 107 & 108 \\\\\n",
       "\t14 & 45.0 & 5.3 & 34.0 & 206 & 75 & 13.2 & 107 & 106 \\\\\n",
       "\t15 & 45.0 & 6.5 & 34.0 & 195 & 87 & 13.2 & 107 & 108 \\\\\n",
       "\t16 & 45.0 & 7.7 & 34.0 & 180 & 92 & 13.2 & 107 & 112 \\\\\n",
       "\t17 & 45.0 & 6.5 & 30.9 & 192 & 91 & 13.2 & 107 & 96 \\\\\n",
       "\t18 & 45.0 & 6.5 & 34.0 & 192 & 84 & 13.2 & 107 & 106 \\\\\n",
       "\t19 & 45.0 & 6.5 & 37.1 & 196 & 79 & 13.2 & 107 & 116 \\\\\n",
       "\\end{tabular}\n"
      ],
      "text/plain": [
       "\u001b[1m19×8 DataFrame\u001b[0m\n",
       "\u001b[1m Row \u001b[0m│\u001b[1m PGM     \u001b[0m\u001b[1m ENO     \u001b[0m\u001b[1m PK      \u001b[0m\u001b[1m 2PG   \u001b[0m\u001b[1m PEP   \u001b[0m\u001b[1m BPG     \u001b[0m\u001b[1m ADP   \u001b[0m\u001b[1m Flux  \u001b[0m\n",
       "\u001b[1m     \u001b[0m│\u001b[90m Float64 \u001b[0m\u001b[90m Float64 \u001b[0m\u001b[90m Float64 \u001b[0m\u001b[90m Int64 \u001b[0m\u001b[90m Int64 \u001b[0m\u001b[90m Float64 \u001b[0m\u001b[90m Int64 \u001b[0m\u001b[90m Int64 \u001b[0m\n",
       "─────┼────────────────────────────────────────────────────────────────\n",
       "   1 │    31.0      5.6     46.0    170     50     13.2    107    157\n",
       "   2 │    25.0     12.0     30.0     60    103     13.2     61     87\n",
       "   3 │    25.0     12.0     30.0     57     91     13.2     83    114\n",
       "   4 │    25.0     12.0     30.0     55     83     13.2    107    128\n",
       "   5 │    25.0     12.0     30.0     54     76     13.2    130    136\n",
       "   6 │    25.0     12.0     30.0     40     60      8.5    107    111\n",
       "   7 │    25.0     12.0     30.0     46     70     10.8    107    118\n",
       "   8 │    25.0     12.0     30.0     55     81     13.2    107    122\n",
       "  ⋮  │    ⋮        ⋮        ⋮       ⋮      ⋮       ⋮       ⋮      ⋮\n",
       "  13 │    53.2      6.5     34.0    204     81     13.2    107    108\n",
       "  14 │    45.0      5.3     34.0    206     75     13.2    107    106\n",
       "  15 │    45.0      6.5     34.0    195     87     13.2    107    108\n",
       "  16 │    45.0      7.7     34.0    180     92     13.2    107    112\n",
       "  17 │    45.0      6.5     30.9    192     91     13.2    107     96\n",
       "  18 │    45.0      6.5     34.0    192     84     13.2    107    106\n",
       "  19 │    45.0      6.5     37.1    196     79     13.2    107    116\n",
       "\u001b[36m                                                        4 rows omitted\u001b[0m"
      ]
     },
     "metadata": {},
     "output_type": "display_data"
    }
   ],
   "source": [
    "giersch = DataFrame(CSV.File(\"data/giersch.csv\"))\n",
    "n_exp = nrow(giersch)\n"
   ]
  },
  {
   "cell_type": "code",
   "execution_count": 7,
   "id": "5289d4df",
   "metadata": {},
   "outputs": [
    {
     "data": {
      "text/html": [
       "<div class=\"data-frame\"><p>19 rows × 2 columns</p><table class=\"data-frame\"><thead><tr><th></th><th>PGM</th><th>ENO</th></tr><tr><th></th><th title=\"Float64\">Float64</th><th title=\"Float64\">Float64</th></tr></thead><tbody><tr><th>1</th><td>31.0</td><td>5.6</td></tr><tr><th>2</th><td>25.0</td><td>12.0</td></tr><tr><th>3</th><td>25.0</td><td>12.0</td></tr><tr><th>4</th><td>25.0</td><td>12.0</td></tr><tr><th>5</th><td>25.0</td><td>12.0</td></tr><tr><th>6</th><td>25.0</td><td>12.0</td></tr><tr><th>7</th><td>25.0</td><td>12.0</td></tr><tr><th>8</th><td>25.0</td><td>12.0</td></tr><tr><th>9</th><td>25.0</td><td>12.0</td></tr><tr><th>10</th><td>25.0</td><td>12.0</td></tr><tr><th>11</th><td>36.8</td><td>6.5</td></tr><tr><th>12</th><td>45.0</td><td>6.5</td></tr><tr><th>13</th><td>53.2</td><td>6.5</td></tr><tr><th>14</th><td>45.0</td><td>5.3</td></tr><tr><th>15</th><td>45.0</td><td>6.5</td></tr><tr><th>16</th><td>45.0</td><td>7.7</td></tr><tr><th>17</th><td>45.0</td><td>6.5</td></tr><tr><th>18</th><td>45.0</td><td>6.5</td></tr><tr><th>19</th><td>45.0</td><td>6.5</td></tr></tbody></table></div>"
      ],
      "text/latex": [
       "\\begin{tabular}{r|cc}\n",
       "\t& PGM & ENO\\\\\n",
       "\t\\hline\n",
       "\t& Float64 & Float64\\\\\n",
       "\t\\hline\n",
       "\t1 & 31.0 & 5.6 \\\\\n",
       "\t2 & 25.0 & 12.0 \\\\\n",
       "\t3 & 25.0 & 12.0 \\\\\n",
       "\t4 & 25.0 & 12.0 \\\\\n",
       "\t5 & 25.0 & 12.0 \\\\\n",
       "\t6 & 25.0 & 12.0 \\\\\n",
       "\t7 & 25.0 & 12.0 \\\\\n",
       "\t8 & 25.0 & 12.0 \\\\\n",
       "\t9 & 25.0 & 12.0 \\\\\n",
       "\t10 & 25.0 & 12.0 \\\\\n",
       "\t11 & 36.8 & 6.5 \\\\\n",
       "\t12 & 45.0 & 6.5 \\\\\n",
       "\t13 & 53.2 & 6.5 \\\\\n",
       "\t14 & 45.0 & 5.3 \\\\\n",
       "\t15 & 45.0 & 6.5 \\\\\n",
       "\t16 & 45.0 & 7.7 \\\\\n",
       "\t17 & 45.0 & 6.5 \\\\\n",
       "\t18 & 45.0 & 6.5 \\\\\n",
       "\t19 & 45.0 & 6.5 \\\\\n",
       "\\end{tabular}\n"
      ],
      "text/plain": [
       "\u001b[1m19×2 DataFrame\u001b[0m\n",
       "\u001b[1m Row \u001b[0m│\u001b[1m PGM     \u001b[0m\u001b[1m ENO     \u001b[0m\n",
       "\u001b[1m     \u001b[0m│\u001b[90m Float64 \u001b[0m\u001b[90m Float64 \u001b[0m\n",
       "─────┼──────────────────\n",
       "   1 │    31.0      5.6\n",
       "   2 │    25.0     12.0\n",
       "   3 │    25.0     12.0\n",
       "   4 │    25.0     12.0\n",
       "   5 │    25.0     12.0\n",
       "   6 │    25.0     12.0\n",
       "   7 │    25.0     12.0\n",
       "   8 │    25.0     12.0\n",
       "  ⋮  │    ⋮        ⋮\n",
       "  13 │    53.2      6.5\n",
       "  14 │    45.0      5.3\n",
       "  15 │    45.0      6.5\n",
       "  16 │    45.0      7.7\n",
       "  17 │    45.0      6.5\n",
       "  18 │    45.0      6.5\n",
       "  19 │    45.0      6.5\n",
       "\u001b[36m          4 rows omitted\u001b[0m"
      ]
     },
     "metadata": {},
     "output_type": "display_data"
    }
   ],
   "source": []
  },
  {
   "cell_type": "code",
   "execution_count": 9,
   "id": "fb469a8e",
   "metadata": {},
   "outputs": [
    {
     "data": {
      "text/html": [
       "<p>DataFrameRow (1 columns)</p><div class=\"data-frame\"><table class=\"data-frame\"><thead><tr><th></th><th>Flux</th></tr><tr><th></th><th title=\"Int64\">Int64</th></tr></thead><tbody><tr><th>2</th><td>87</td></tr></tbody></table></div>"
      ],
      "text/latex": [
       "\\begin{tabular}{r|c}\n",
       "\t& Flux\\\\\n",
       "\t\\hline\n",
       "\t& Int64\\\\\n",
       "\t\\hline\n",
       "\t2 & 87 \\\\\n",
       "\\end{tabular}\n"
      ],
      "text/plain": [
       "\u001b[1mDataFrameRow\u001b[0m\n",
       "\u001b[1m Row \u001b[0m│\u001b[1m Flux  \u001b[0m\n",
       "\u001b[1m     \u001b[0m│\u001b[90m Int64 \u001b[0m\n",
       "─────┼───────\n",
       "   2 │    87"
      ]
     },
     "metadata": {},
     "output_type": "display_data"
    }
   ],
   "source": [
    "e = giersch[:, [\"PGM\",\"ENO\",\"PK\"]]\n",
    "x = giersch[:, [\"2PG\", \"PEP\"]]\n",
    "y = giersch[:, [\"BPG\", \"ADP\"]]\n",
    "v = giersch[:, [\"Flux\"]]\n",
    "\n",
    "ref_ind = 2\n",
    "\n",
    "e_star = e[ref_ind,:]\n",
    "x_star = x[ref_ind,:]\n",
    "y_star = y[ref_ind,:]\n",
    "v_star = v[ref_ind,:]\n",
    "\n",
    "# Normalize to reference values (and drop trivial measurement)\n",
    "en = e.values ./ e_star\n",
    "yn = np.log(y.values ./ y_star)\n",
    "xn = np.log(x.values ./ x_star)\n",
    "vn = v.values ./ v_star[0]"
   ]
  },
  {
   "cell_type": "code",
   "execution_count": null,
   "id": "384c12fd",
   "metadata": {},
   "outputs": [],
   "source": []
  },
  {
   "cell_type": "code",
   "execution_count": null,
   "id": "a2294659",
   "metadata": {},
   "outputs": [],
   "source": []
  }
 ],
 "metadata": {
  "kernelspec": {
   "display_name": "Julia 1.7.0-rc1",
   "language": "julia",
   "name": "julia-1.7"
  },
  "language_info": {
   "file_extension": ".jl",
   "mimetype": "application/julia",
   "name": "julia",
   "version": "1.7.0-rc1"
  }
 },
 "nbformat": 4,
 "nbformat_minor": 5
}
