{
 "cells": [
  {
   "cell_type": "code",
   "execution_count": 1,
   "metadata": {},
   "outputs": [],
   "source": [
    "import tellurium as te\n",
    "import numpy as np\n",
    "from core import evaluate\n",
    "from core import models\n",
    "from core import genAlgo"
   ]
  },
  {
   "cell_type": "code",
   "execution_count": null,
   "metadata": {},
   "outputs": [],
   "source": [
    "# the original, expected values to compare with the values in 'allData.list'\n",
    "tiny = evaluate.runExperiment(models.tiny_MM)\n",
    "tiny # is this flux correct?\n",
    "# FLUX OF WHAT???"
   ]
  },
  {
   "cell_type": "markdown",
   "metadata": {},
   "source": [
    "PGM-PEP\n",
    "ENO-PEP\n",
    "PK-PEP\n",
    "F-PGM\n",
    "F-ENO\n",
    "F-PK"
   ]
  },
  {
   "cell_type": "markdown",
   "metadata": {},
   "source": [
    "- the first value tells us that when PGM is perturbed, there is no difference to the amount of PEP\n",
    "- the second value tells us that when ENO is perturbed, there is a -20% difference in amount of PEP\n",
    "- the third value tells us that when PK is perturbed, there is a +11% difference in amount of PEP\n",
    "\n",
    "- the fourth values tells us that when PGM is perturbed, there is a +18% difference to the flux\n",
    "- the fourth values tells us that when ENO is perturbed, there is a +0% difference to the flux\n",
    "- the fourth values tells us that when PK is perturbed, there is a +0% difference to the flux"
   ]
  },
  {
   "cell_type": "markdown",
   "metadata": {},
   "source": [
    "basically we didn't need to find the k parameters of the mass action because it's not like we \n",
    "could use them in the MM model anyway\n",
    "so just set up the objective lit "
   ]
  },
  {
   "cell_type": "code",
   "execution_count": 2,
   "metadata": {},
   "outputs": [
    {
     "data": {
      "text/plain": [
       "'2021-12-23_2/genAlgo_population_1'"
      ]
     },
     "execution_count": 2,
     "metadata": {},
     "output_type": "execute_result"
    }
   ],
   "source": [
    "runID = models.makeFolder(\"\", date=True)\n",
    "models.generateModelFiles(5, folderName=runID)"
   ]
  },
  {
   "cell_type": "code",
   "execution_count": 4,
   "metadata": {},
   "outputs": [],
   "source": [
    "genAlgo.runGeneticAlgorithm(\"2021-12-23_2/genAlgo_population_1\", models.tiny_MM, models.PARAMETERS, \n",
    "                            10, (2,9), \"2021-12-23_2/\")"
   ]
  },
  {
   "cell_type": "markdown",
   "metadata": {},
   "source": [
    "evaluate the tiny_MM\n",
    "What do you get? What does each value mean?\n",
    "\n"
   ]
  }
 ],
 "metadata": {
  "interpreter": {
   "hash": "807af757a5071a81de60f8a5dd7456980ab3170d1cb5848dc8554ea6db7a575c"
  },
  "kernelspec": {
   "display_name": "Python 3.8.6 64-bit (system)",
   "language": "python",
   "name": "python3"
  },
  "language_info": {
   "codemirror_mode": {
    "name": "ipython",
    "version": 3
   },
   "file_extension": ".py",
   "mimetype": "text/x-python",
   "name": "python",
   "nbconvert_exporter": "python",
   "pygments_lexer": "ipython3",
   "version": "3.8.6"
  },
  "orig_nbformat": 4
 },
 "nbformat": 4,
 "nbformat_minor": 2
}
